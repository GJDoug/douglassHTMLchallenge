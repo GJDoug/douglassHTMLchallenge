{
 "cells": [
  {
   "cell_type": "code",
   "execution_count": 7,
   "metadata": {},
   "outputs": [],
   "source": [
    "import pandas as pd\n",
    "import os"
   ]
  },
  {
   "cell_type": "code",
   "execution_count": 8,
   "metadata": {},
   "outputs": [
    {
     "output_type": "execute_result",
     "data": {
      "text/plain": "'.\\\\resources\\\\cities.csv'"
     },
     "metadata": {},
     "execution_count": 8
    }
   ],
   "source": [
    "cities_file=os.path.join('.','resources','cities.csv')\n",
    "cities_file"
   ]
  },
  {
   "cell_type": "code",
   "execution_count": 9,
   "metadata": {},
   "outputs": [
    {
     "output_type": "execute_result",
     "data": {
      "text/plain": "   City_ID          City Country    Lat  Max Temp  Cloudiness  Wind Speed  \\\n0        0  jacareacanga      BR  -6.22     89.60           0        6.93   \n1        1    kaitangata      NZ -46.28     42.61         100        5.64   \n2        2      goulburn      AU -34.75     44.32          20       10.11   \n3        3          lata      IN  30.78     59.89          76        0.94   \n4        4    chokurdakh      RU  70.62     32.17           0        2.95   \n\n   Humidity  \n0        62  \n1        94  \n2        91  \n3        89  \n4        88  ",
      "text/html": "<div>\n<style scoped>\n    .dataframe tbody tr th:only-of-type {\n        vertical-align: middle;\n    }\n\n    .dataframe tbody tr th {\n        vertical-align: top;\n    }\n\n    .dataframe thead th {\n        text-align: right;\n    }\n</style>\n<table border=\"1\" class=\"dataframe\">\n  <thead>\n    <tr style=\"text-align: right;\">\n      <th></th>\n      <th>City_ID</th>\n      <th>City</th>\n      <th>Country</th>\n      <th>Lat</th>\n      <th>Max Temp</th>\n      <th>Cloudiness</th>\n      <th>Wind Speed</th>\n      <th>Humidity</th>\n    </tr>\n  </thead>\n  <tbody>\n    <tr>\n      <td>0</td>\n      <td>0</td>\n      <td>jacareacanga</td>\n      <td>BR</td>\n      <td>-6.22</td>\n      <td>89.60</td>\n      <td>0</td>\n      <td>6.93</td>\n      <td>62</td>\n    </tr>\n    <tr>\n      <td>1</td>\n      <td>1</td>\n      <td>kaitangata</td>\n      <td>NZ</td>\n      <td>-46.28</td>\n      <td>42.61</td>\n      <td>100</td>\n      <td>5.64</td>\n      <td>94</td>\n    </tr>\n    <tr>\n      <td>2</td>\n      <td>2</td>\n      <td>goulburn</td>\n      <td>AU</td>\n      <td>-34.75</td>\n      <td>44.32</td>\n      <td>20</td>\n      <td>10.11</td>\n      <td>91</td>\n    </tr>\n    <tr>\n      <td>3</td>\n      <td>3</td>\n      <td>lata</td>\n      <td>IN</td>\n      <td>30.78</td>\n      <td>59.89</td>\n      <td>76</td>\n      <td>0.94</td>\n      <td>89</td>\n    </tr>\n    <tr>\n      <td>4</td>\n      <td>4</td>\n      <td>chokurdakh</td>\n      <td>RU</td>\n      <td>70.62</td>\n      <td>32.17</td>\n      <td>0</td>\n      <td>2.95</td>\n      <td>88</td>\n    </tr>\n  </tbody>\n</table>\n</div>"
     },
     "metadata": {},
     "execution_count": 9
    }
   ],
   "source": [
    "file_cities=pd.read_csv(cities_file)\n",
    "cities_df=pd.DataFrame(file_cities)\n",
    "cities_df=cities_df[[\"City_ID\", \"City\", \"Country\", \"Lat\", \"Max Temp\", \"Cloudiness\", \"Wind Speed\", \"Humidity\"]]\n",
    "cities_df.head()"
   ]
  },
  {
   "cell_type": "code",
   "execution_count": 10,
   "metadata": {},
   "outputs": [],
   "source": [
    "cities_df.to_html('./resources/cities.html', index=False)"
   ]
  }
 ],
 "metadata": {
  "language_info": {
   "codemirror_mode": {
    "name": "ipython",
    "version": 3
   },
   "file_extension": ".py",
   "mimetype": "text/x-python",
   "name": "python",
   "nbconvert_exporter": "python",
   "pygments_lexer": "ipython3",
   "version": "3.7.4-final"
  },
  "orig_nbformat": 2,
  "kernelspec": {
   "name": "python3",
   "display_name": "Python 3"
  }
 },
 "nbformat": 4,
 "nbformat_minor": 2
}